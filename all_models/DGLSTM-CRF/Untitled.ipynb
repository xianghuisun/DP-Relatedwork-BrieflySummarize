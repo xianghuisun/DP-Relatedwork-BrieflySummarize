{
 "cells": [
  {
   "cell_type": "markdown",
   "id": "5226685b",
   "metadata": {},
   "source": [
    "# 使用Spacy工具包解析W-NUT17数据集"
   ]
  },
  {
   "cell_type": "code",
   "execution_count": 1,
   "id": "218da0b4",
   "metadata": {},
   "outputs": [],
   "source": [
    "import os,json\n",
    "import spacy\n",
    "from tqdm import tqdm\n",
    "nlp = spacy.load(\"en_core_web_sm\")"
   ]
  },
  {
   "cell_type": "code",
   "execution_count": 5,
   "id": "a1db8e66",
   "metadata": {},
   "outputs": [],
   "source": [
    "path_folder='/home/xhsun/Desktop/gitRepositories/ADP2NER/data/BioNLP13CG-IOB/13cg'"
   ]
  },
  {
   "cell_type": "code",
   "execution_count": 6,
   "id": "1b1df14d",
   "metadata": {},
   "outputs": [],
   "source": [
    "def parsing_sentence(sentence_list):\n",
    "    sentence=' '.join(sentence_list)\n",
    "    doc=nlp(sentence)\n",
    "    result=[]\n",
    "    for token in doc:\n",
    "        word=token.text\n",
    "        deprel=token.dep_.lower()\n",
    "        head=token.head.text\n",
    "        pos_tag=token.pos_\n",
    "        try:\n",
    "            head_id=sentence_list.index(str(head))\n",
    "            #容易出现parsing错误的情况\n",
    "        except:\n",
    "            return None\n",
    "        if deprel=='root':\n",
    "            head_id=0\n",
    "        else:\n",
    "            head_id+=1\n",
    "        result.append([word,pos_tag,head_id,deprel])\n",
    "    return result\n",
    "\n",
    "def process_data(path_folder,write_path):\n",
    "    files_path=os.listdir(path_folder)\n",
    "    print(files_path)\n",
    "    for file_name in files_path:\n",
    "        with open(os.path.join(path_folder,file_name)) as f:\n",
    "            lines=f.readlines()\n",
    "        sentences_and_entlabels=[([],[])]\n",
    "        for line in lines:\n",
    "            if line.strip() in ['',' ']:\n",
    "                sentences_and_entlabels.append(([],[]))\n",
    "            else:\n",
    "                line_split=line.strip().split()\n",
    "                assert len(line_split)==2\n",
    "                word,entity_label=line_split\n",
    "                sentences_and_entlabels[-1][0].append(word)\n",
    "                sentences_and_entlabels[-1][1].append(entity_label)\n",
    "                \n",
    "        if sentences_and_entlabels[-1]==([],[]):\n",
    "            del sentences_and_entlabels[-1]\n",
    "            \n",
    "        with open(os.path.join(write_path,file_name+\".conllx\"),'w') as f:\n",
    "            parsing_error_count=0\n",
    "            for example in tqdm(sentences_and_entlabels):\n",
    "                sentences,entlabels=example\n",
    "                assert len(sentences)==len(entlabels)\n",
    "                \n",
    "                parsing_result=parsing_sentence(sentence_list=sentences)\n",
    "                if parsing_result==None or len(parsing_result)!=len(entlabels):\n",
    "                    #parsing出现错误\n",
    "                    parsing_error_count+=1\n",
    "                    continue\n",
    "                    \n",
    "                for i in range(len(parsing_result)):\n",
    "                    word,pos_tag,head_id,deprel=parsing_result[i]\n",
    "                    ent=entlabels[i]\n",
    "                    lemma='_'\n",
    "                    feats='_'\n",
    "                    conllx_example=[str(i+1),word,lemma,pos_tag,pos_tag,feats,str(head_id),deprel,'_','_',ent]\n",
    "                    f.write('\\t'.join(conllx_example)+'\\n')\n",
    "                    \n",
    "                f.write('\\n')\n",
    "            print(\"parsing error count : \",parsing_error_count,len(sentences_and_entlabels))"
   ]
  },
  {
   "cell_type": "code",
   "execution_count": 8,
   "id": "a99da431",
   "metadata": {},
   "outputs": [
    {
     "name": "stderr",
     "output_type": "stream",
     "text": [
      "  1%|▏                                       | 18/3033 [00:00<00:17, 172.25it/s]"
     ]
    },
    {
     "name": "stdout",
     "output_type": "stream",
     "text": [
      "['train.txt', 'test.txt']\n"
     ]
    },
    {
     "name": "stderr",
     "output_type": "stream",
     "text": [
      "100%|██████████████████████████████████████| 3033/3033 [00:17<00:00, 168.89it/s]\n",
      "  1%|▎                                       | 17/1906 [00:00<00:11, 164.09it/s]"
     ]
    },
    {
     "name": "stdout",
     "output_type": "stream",
     "text": [
      "parsing error count :  29 3033\n"
     ]
    },
    {
     "name": "stderr",
     "output_type": "stream",
     "text": [
      "100%|██████████████████████████████████████| 1906/1906 [00:11<00:00, 169.82it/s]"
     ]
    },
    {
     "name": "stdout",
     "output_type": "stream",
     "text": [
      "parsing error count :  16 1906\n"
     ]
    },
    {
     "name": "stderr",
     "output_type": "stream",
     "text": [
      "\n"
     ]
    }
   ],
   "source": [
    "process_data(path_folder=path_folder,write_path='/home/xhsun/Desktop/gitRepositories/ADP2NER/data/BioNLP13CG-IOB/13cg')"
   ]
  },
  {
   "cell_type": "code",
   "execution_count": 9,
   "id": "ae9e46fd",
   "metadata": {},
   "outputs": [
    {
     "data": {
      "text/plain": [
       "{'<PAD>': 0,\n",
       " 'O': 1,\n",
       " 'B-Gene_or_gene_product': 2,\n",
       " 'I-Gene_or_gene_product': 3,\n",
       " 'E-Gene_or_gene_product': 4,\n",
       " 'B-Cancer': 5,\n",
       " 'I-Cancer': 6,\n",
       " 'E-Cancer': 7,\n",
       " 'S-Cancer': 8,\n",
       " 'B-Cell': 9,\n",
       " 'E-Cell': 10,\n",
       " 'S-Gene_or_gene_product': 11,\n",
       " 'S-Cell': 12,\n",
       " 'S-Organism': 13,\n",
       " 'I-Cell': 14,\n",
       " 'S-Simple_chemical': 15,\n",
       " 'B-Simple_chemical': 16,\n",
       " 'I-Simple_chemical': 17,\n",
       " 'E-Simple_chemical': 18,\n",
       " 'S-Multi-tissue_structure': 19,\n",
       " 'B-Multi-tissue_structure': 20,\n",
       " 'E-Multi-tissue_structure': 21,\n",
       " 'S-Organ': 22,\n",
       " 'S-Organism_subdivision': 23,\n",
       " 'B-Tissue': 24,\n",
       " 'I-Tissue': 25,\n",
       " 'E-Tissue': 26,\n",
       " 'S-Tissue': 27,\n",
       " 'S-Immaterial_anatomical_entity': 28,\n",
       " 'S-Organism_substance': 29,\n",
       " 'B-Organism_substance': 30,\n",
       " 'I-Organism_substance': 31,\n",
       " 'E-Organism_substance': 32,\n",
       " 'I-Multi-tissue_structure': 33,\n",
       " 'B-Organism': 34,\n",
       " 'I-Organism': 35,\n",
       " 'E-Organism': 36,\n",
       " 'B-Organism_subdivision': 37,\n",
       " 'E-Organism_subdivision': 38,\n",
       " 'S-Cellular_component': 39,\n",
       " 'B-Immaterial_anatomical_entity': 40,\n",
       " 'I-Immaterial_anatomical_entity': 41,\n",
       " 'E-Immaterial_anatomical_entity': 42,\n",
       " 'B-Cellular_component': 43,\n",
       " 'E-Cellular_component': 44,\n",
       " 'S-Pathological_formation': 45,\n",
       " 'I-Cellular_component': 46,\n",
       " 'B-Pathological_formation': 47,\n",
       " 'I-Pathological_formation': 48,\n",
       " 'E-Pathological_formation': 49,\n",
       " 'B-Organ': 50,\n",
       " 'E-Organ': 51,\n",
       " 'B-Amino_acid': 52,\n",
       " 'I-Amino_acid': 53,\n",
       " 'E-Amino_acid': 54,\n",
       " 'S-Amino_acid': 55,\n",
       " 'B-Anatomical_system': 56,\n",
       " 'E-Anatomical_system': 57,\n",
       " 'S-Anatomical_system': 58,\n",
       " 'I-Anatomical_system': 59,\n",
       " 'S-Developing_anatomical_structure': 60,\n",
       " 'B-Developing_anatomical_structure': 61,\n",
       " 'E-Developing_anatomical_structure': 62,\n",
       " '<START>': 63,\n",
       " '<STOP>': 64}"
      ]
     },
     "execution_count": 9,
     "metadata": {},
     "output_type": "execute_result"
    }
   ],
   "source": [
    "{'<PAD>': 0, 'O': 1, 'B-Gene_or_gene_product': 2, 'I-Gene_or_gene_product': 3, 'E-Gene_or_gene_product': 4, 'B-Cancer': 5, 'I-Cancer': 6, 'E-Cancer': 7, 'S-Cancer': 8, 'B-Cell': 9, 'E-Cell': 10, 'S-Gene_or_gene_product': 11, 'S-Cell': 12, 'S-Organism': 13, 'I-Cell': 14, 'S-Simple_chemical': 15, 'B-Simple_chemical': 16, 'I-Simple_chemical': 17, 'E-Simple_chemical': 18, 'S-Multi-tissue_structure': 19, 'B-Multi-tissue_structure': 20, 'E-Multi-tissue_structure': 21, 'S-Organ': 22, 'S-Organism_subdivision': 23, 'B-Tissue': 24, 'I-Tissue': 25, 'E-Tissue': 26, 'S-Tissue': 27, 'S-Immaterial_anatomical_entity': 28, 'S-Organism_substance': 29, 'B-Organism_substance': 30, 'I-Organism_substance': 31, 'E-Organism_substance': 32, 'I-Multi-tissue_structure': 33, 'B-Organism': 34, 'I-Organism': 35, 'E-Organism': 36, 'B-Organism_subdivision': 37, 'E-Organism_subdivision': 38, 'S-Cellular_component': 39, 'B-Immaterial_anatomical_entity': 40, 'I-Immaterial_anatomical_entity': 41, 'E-Immaterial_anatomical_entity': 42, 'B-Cellular_component': 43, 'E-Cellular_component': 44, 'S-Pathological_formation': 45, 'I-Cellular_component': 46, 'B-Pathological_formation': 47, 'I-Pathological_formation': 48, 'E-Pathological_formation': 49, 'B-Organ': 50, 'E-Organ': 51, 'B-Amino_acid': 52, 'I-Amino_acid': 53, 'E-Amino_acid': 54, 'S-Amino_acid': 55, 'B-Anatomical_system': 56, 'E-Anatomical_system': 57, 'S-Anatomical_system': 58, 'I-Anatomical_system': 59, 'S-Developing_anatomical_structure': 60, 'B-Developing_anatomical_structure': 61, 'E-Developing_anatomical_structure': 62, '<START>': 63, '<STOP>': 64}"
   ]
  },
  {
   "cell_type": "code",
   "execution_count": null,
   "id": "e1c58ac6",
   "metadata": {},
   "outputs": [],
   "source": []
  },
  {
   "cell_type": "markdown",
   "id": "34777217",
   "metadata": {},
   "source": [
    "# 使用Spacy解析"
   ]
  },
  {
   "cell_type": "code",
   "execution_count": 3,
   "id": "17f762b1",
   "metadata": {},
   "outputs": [],
   "source": [
    "def get_all_sentences(file_path):\n",
    "    with open(file_path) as f:\n",
    "        lines=f.readlines()\n",
    "    sentences_and_entlabels=[([],[])]\n",
    "    sen_lengths=0\n",
    "    for line in lines:\n",
    "        if line.strip() in ['',' ']:\n",
    "            sentences_and_entlabels.append(([],[]))\n",
    "        else:\n",
    "            line_split=line.strip().split()\n",
    "            assert len(line_split)==2\n",
    "            word,entity_label=line_split\n",
    "            sentences_and_entlabels[-1][0].append(word)\n",
    "            sentences_and_entlabels[-1][1].append(entity_label)\n",
    "\n",
    "    if sentences_and_entlabels[-1]==([],[]):\n",
    "        del sentences_and_entlabels[-1]\n",
    "    for example in sentences_and_entlabels:\n",
    "        sen_lengths+=len(example[0])\n",
    "    print(\"平均长度 : \",sen_lengths/len(sentences_and_entlabels))\n",
    "    return sentences_and_entlabels"
   ]
  },
  {
   "cell_type": "code",
   "execution_count": 20,
   "id": "d2e22cad",
   "metadata": {},
   "outputs": [
    {
     "name": "stdout",
     "output_type": "stream",
     "text": [
      "平均长度 :  18.482616381850324\n",
      "平均长度 :  18.177156177156178\n"
     ]
    }
   ],
   "source": [
    "train_sentences_and_entlabels=get_all_sentences('/home/xhsun/Desktop/gitRepositories/ADP2NER/data/W-NUT17/train_prepro_url.txt')\n",
    "test_sentences_and_entlabels=get_all_sentences('/home/xhsun/Desktop/gitRepositories/ADP2NER/data/W-NUT17/test_prepro_url.txt')"
   ]
  },
  {
   "cell_type": "code",
   "execution_count": 21,
   "id": "2d625fab",
   "metadata": {},
   "outputs": [
    {
     "name": "stdout",
     "output_type": "stream",
     "text": [
      "3394\n",
      "1287\n"
     ]
    }
   ],
   "source": [
    "print(len(train_sentences_and_entlabels))\n",
    "print(len(test_sentences_and_entlabels))"
   ]
  },
  {
   "cell_type": "code",
   "execution_count": 22,
   "id": "23d9013f",
   "metadata": {},
   "outputs": [
    {
     "name": "stdout",
     "output_type": "stream",
     "text": [
      "(['@paulwalk', 'It', \"'s\", 'the', 'view', 'from', 'where', 'I', \"'m\", 'living', 'for', 'two', 'weeks', '.', 'Empire', 'State', 'Building', '=', 'ESB', '.', 'Pretty', 'bad', 'storm', 'here', 'last', 'evening', '.'], ['O', 'O', 'O', 'O', 'O', 'O', 'O', 'O', 'O', 'O', 'O', 'O', 'O', 'O', 'B-location', 'I-location', 'I-location', 'O', 'B-location', 'O', 'O', 'O', 'O', 'O', 'O', 'O', 'O'])\n"
     ]
    }
   ],
   "source": [
    "print(train_sentences_and_entlabels[0])"
   ]
  },
  {
   "cell_type": "code",
   "execution_count": 23,
   "id": "96d58854",
   "metadata": {},
   "outputs": [
    {
     "data": {
      "text/plain": [
       "@paulwalk It 's the view from where I 'm living for two weeks . Empire State Building = ESB . Pretty bad storm here last evening ."
      ]
     },
     "execution_count": 23,
     "metadata": {},
     "output_type": "execute_result"
    }
   ],
   "source": [
    "doc=nlp(' '.join(train_sentences_and_entlabels[0][0]))\n",
    "doc"
   ]
  },
  {
   "cell_type": "code",
   "execution_count": 31,
   "id": "717acc51",
   "metadata": {},
   "outputs": [
    {
     "name": "stdout",
     "output_type": "stream",
     "text": [
      "28 27 27\n"
     ]
    }
   ],
   "source": [
    "print(len(doc),len(train_sentences_and_entlabels[0][1]),len(train_sentences_and_entlabels[0][1]))"
   ]
  },
  {
   "cell_type": "markdown",
   "id": "f1041e14",
   "metadata": {},
   "source": [
    "**会存在parsing错误导致id对不上的问题**"
   ]
  },
  {
   "cell_type": "code",
   "execution_count": 30,
   "id": "a8466a6a",
   "metadata": {},
   "outputs": [
    {
     "name": "stdout",
     "output_type": "stream",
     "text": [
      "@paulwalk \t @paulwalk \t root \t PUNCT\n",
      "It \t 's \t nsubj \t PRON\n",
      "'s \t 's \t root \t AUX\n",
      "the \t view \t det \t DET\n",
      "view \t 's \t attr \t NOUN\n",
      "from \t view \t prep \t ADP\n",
      "where \t living \t advmod \t ADV\n",
      "I \t m \t poss \t PRON\n",
      "' \t I \t case \t PUNCT\n",
      "m \t living \t nsubj \t X\n",
      "living \t from \t pcomp \t VERB\n",
      "for \t living \t prep \t ADP\n",
      "two \t weeks \t nummod \t NUM\n",
      "weeks \t for \t pobj \t NOUN\n",
      ". \t 's \t punct \t PUNCT\n",
      "Empire \t ESB \t compound \t PROPN\n",
      "State \t ESB \t compound \t PROPN\n",
      "Building \t ESB \t nmod \t PROPN\n",
      "= \t ESB \t punct \t PUNCT\n",
      "ESB \t ESB \t root \t PROPN\n",
      ". \t ESB \t punct \t PUNCT\n",
      "Pretty \t bad \t advmod \t ADV\n",
      "bad \t storm \t amod \t ADJ\n",
      "storm \t storm \t root \t NOUN\n",
      "here \t storm \t advmod \t ADV\n",
      "last \t evening \t amod \t ADJ\n",
      "evening \t storm \t npadvmod \t NOUN\n",
      ". \t storm \t punct \t PUNCT\n"
     ]
    }
   ],
   "source": [
    "for token in doc:\n",
    "    word=token.text\n",
    "    deprel=token.dep_.lower()\n",
    "    head=token.head.text\n",
    "    pos_tag=token.pos_\n",
    "    print(word,'\\t',head,'\\t',deprel,'\\t',pos_tag)"
   ]
  },
  {
   "cell_type": "code",
   "execution_count": 7,
   "id": "4e23069d",
   "metadata": {},
   "outputs": [],
   "source": [
    "def parsing_sentence(sentence_list,ent_list):\n",
    "    sentence=' '.join(sentence_list)\n",
    "    doc=nlp(sentence)\n",
    "    result=[]\n",
    "    for i,token in enumerate(doc):\n",
    "        word=token.text\n",
    "        deprel=token.dep_.lower()\n",
    "        head=token.head.text\n",
    "        pos_tag=token.pos_\n",
    "        if head not in sentence_list:\n",
    "            #出现了parsing错误的问题，通常是因为一个词被分成了两个\n",
    "            if i>=len(ent_list):\n",
    "                i=len(ent_list)-1\n",
    "                \n",
    "            if head+sentence_list[i] in sentence_list:\n",
    "                head=head+sentence_list[i]\n",
    "            elif sentence_list[i-1]+head in sentence_list:\n",
    "                head=sentence_list[i-1]+head\n",
    "            else:\n",
    "                head=sentence_list[i]#实在找不到\n",
    "        head_id=sentence_list.index(str(head))\n",
    "        if deprel=='root':\n",
    "            head_id=0\n",
    "        else:\n",
    "            head_id+=1\n",
    "        if i>=len(ent_list):\n",
    "            i=len(ent_list)-1\n",
    "        result.append([word,pos_tag,head_id,deprel,ent_list[i]])\n",
    "    return result"
   ]
  },
  {
   "cell_type": "code",
   "execution_count": 8,
   "id": "144a50c2",
   "metadata": {},
   "outputs": [],
   "source": [
    "def write_parsing_results(examples,write_path):\n",
    "    with open(write_path,'w') as f:\n",
    "        for example in tqdm(examples):\n",
    "            sentence_list,ent_list=example\n",
    "            parsing_result=parsing_sentence(sentence_list,ent_list)\n",
    "            for i in range(len(parsing_result)):\n",
    "                word,pos_tag,head_id,deprel,ent=parsing_result[i]\n",
    "                lemma='_'\n",
    "                feats='_'\n",
    "                conllx_example=[str(i+1),word,lemma,pos_tag,pos_tag,feats,str(head_id),deprel,'_','_',ent]\n",
    "                f.write('\\t'.join(conllx_example)+'\\n')\n",
    "            f.write('\\n')\n",
    "    print(\"write over!\")\n"
   ]
  },
  {
   "cell_type": "code",
   "execution_count": null,
   "id": "467a955c",
   "metadata": {},
   "outputs": [],
   "source": [
    "\n",
    "print(len(train_sentences_and_entlabels))\n",
    "print(len(test_sentences_and_entlabels))\n",
    "write_parsing_results(examples=train_sentences_and_entlabels,write_path='/home/xhsun/Desktop/gitRepositories/Some-NER-models/data/W-NUT17/Spacy/train.conllx')\n",
    "write_parsing_results(examples=test_sentences_and_entlabels,write_path='/home/xhsun/Desktop/gitRepositories/Some-NER-models/data/W-NUT17/Spacy/test.conllx')"
   ]
  },
  {
   "cell_type": "code",
   "execution_count": null,
   "id": "ac694a2e",
   "metadata": {},
   "outputs": [],
   "source": []
  },
  {
   "cell_type": "markdown",
   "id": "0746e677",
   "metadata": {},
   "source": [
    "# 使用Spacy工具包解析NCBI数据集"
   ]
  },
  {
   "cell_type": "code",
   "execution_count": 4,
   "id": "82267933",
   "metadata": {},
   "outputs": [
    {
     "name": "stdout",
     "output_type": "stream",
     "text": [
      "平均长度 :  25.0186209439528\n",
      "平均长度 :  26.06063829787234\n"
     ]
    }
   ],
   "source": [
    "train_sentences_and_entlabels=get_all_sentences('/home/xhsun/Desktop/gitRepositories/ADP2NER/data/NCBI/train.txt')\n",
    "test_sentences_and_entlabels=get_all_sentences('/home/xhsun/Desktop/gitRepositories/ADP2NER/data/NCBI/test.txt')"
   ]
  },
  {
   "cell_type": "code",
   "execution_count": 5,
   "id": "d92a62c8",
   "metadata": {},
   "outputs": [
    {
     "name": "stdout",
     "output_type": "stream",
     "text": [
      "5424\n",
      "940\n"
     ]
    }
   ],
   "source": [
    "print(len(train_sentences_and_entlabels))\n",
    "print(len(test_sentences_and_entlabels))"
   ]
  },
  {
   "cell_type": "code",
   "execution_count": 6,
   "id": "7d18e49a",
   "metadata": {},
   "outputs": [
    {
     "name": "stdout",
     "output_type": "stream",
     "text": [
      "(['Identification', 'of', 'APC2', ',', 'a', 'homologue', 'of', 'the', 'adenomatous', 'polyposis', 'coli', 'tumour', 'suppressor', '.'], ['O', 'O', 'O', 'O', 'O', 'O', 'O', 'O', 'B-Disease', 'I-Disease', 'I-Disease', 'I-Disease', 'O', 'O'])\n"
     ]
    }
   ],
   "source": [
    "print(train_sentences_and_entlabels[0])"
   ]
  },
  {
   "cell_type": "code",
   "execution_count": 7,
   "id": "6abe97c0",
   "metadata": {},
   "outputs": [
    {
     "data": {
      "text/plain": [
       "Identification of APC2 , a homologue of the adenomatous polyposis coli tumour suppressor ."
      ]
     },
     "execution_count": 7,
     "metadata": {},
     "output_type": "execute_result"
    }
   ],
   "source": [
    "doc=nlp(' '.join(train_sentences_and_entlabels[0][0]))\n",
    "doc"
   ]
  },
  {
   "cell_type": "code",
   "execution_count": 8,
   "id": "585e8455",
   "metadata": {},
   "outputs": [
    {
     "name": "stdout",
     "output_type": "stream",
     "text": [
      "14 14 14\n"
     ]
    }
   ],
   "source": [
    "print(len(doc),len(train_sentences_and_entlabels[0][1]),len(train_sentences_and_entlabels[0][1]))"
   ]
  },
  {
   "cell_type": "code",
   "execution_count": 11,
   "id": "c1c45e41",
   "metadata": {},
   "outputs": [
    {
     "name": "stderr",
     "output_type": "stream",
     "text": [
      "  0%|▍                                                                                                                                                                  | 14/5424 [00:00<00:39, 136.08it/s]"
     ]
    },
    {
     "name": "stdout",
     "output_type": "stream",
     "text": [
      "5424\n",
      "940\n"
     ]
    },
    {
     "name": "stderr",
     "output_type": "stream",
     "text": [
      "100%|█████████████████████████████████████████████████████████████████████████████████████████████████████████████████████████████████████████████████████████████████| 5424/5424 [00:28<00:00, 189.11it/s]\n",
      "  2%|███▏                                                                                                                                                                | 18/940 [00:00<00:05, 170.29it/s]"
     ]
    },
    {
     "name": "stdout",
     "output_type": "stream",
     "text": [
      "write over!\n"
     ]
    },
    {
     "name": "stderr",
     "output_type": "stream",
     "text": [
      "100%|███████████████████████████████████████████████████████████████████████████████████████████████████████████████████████████████████████████████████████████████████| 940/940 [00:05<00:00, 186.60it/s]"
     ]
    },
    {
     "name": "stdout",
     "output_type": "stream",
     "text": [
      "write over!\n"
     ]
    },
    {
     "name": "stderr",
     "output_type": "stream",
     "text": [
      "\n"
     ]
    }
   ],
   "source": [
    "\n",
    "print(len(train_sentences_and_entlabels))\n",
    "print(len(test_sentences_and_entlabels))\n",
    "write_parsing_results(examples=train_sentences_and_entlabels,write_path='/home/xhsun/Desktop/gitRepositories/Some-NER-models/data/NCBI/Spacy/train.conllx')\n",
    "write_parsing_results(examples=test_sentences_and_entlabels,write_path='/home/xhsun/Desktop/gitRepositories/Some-NER-models/data/NCBI/Spacy/test.conllx')"
   ]
  },
  {
   "cell_type": "markdown",
   "id": "54c5b0ed",
   "metadata": {},
   "source": [
    "# 使用Spacy工具包解析13CG数据集"
   ]
  },
  {
   "cell_type": "code",
   "execution_count": 35,
   "id": "87c87c1c",
   "metadata": {},
   "outputs": [
    {
     "name": "stdout",
     "output_type": "stream",
     "text": [
      "平均长度 :  27.519617540389053\n",
      "平均长度 :  27.686778593913957\n",
      "平均长度 :  27.516450648055834\n"
     ]
    }
   ],
   "source": [
    "train_sentences_and_entlabels=get_all_sentences('/home/xhsun/Desktop/gitRepositories/ADP2NER/data/BioNLP13CG-IOB/train.txt')\n",
    "test_sentences_and_entlabels=get_all_sentences('/home/xhsun/Desktop/gitRepositories/ADP2NER/data/BioNLP13CG-IOB/test.txt')\n",
    "dev_sentences_and_entlabels=get_all_sentences('/home/xhsun/Desktop/gitRepositories/ADP2NER/data/BioNLP13CG-IOB/dev.txt')"
   ]
  },
  {
   "cell_type": "code",
   "execution_count": 36,
   "id": "f6e98f2f",
   "metadata": {},
   "outputs": [
    {
     "name": "stdout",
     "output_type": "stream",
     "text": [
      "3033\n",
      "1906\n",
      "1003\n"
     ]
    }
   ],
   "source": [
    "print(len(train_sentences_and_entlabels))\n",
    "print(len(test_sentences_and_entlabels))\n",
    "print(len(dev_sentences_and_entlabels))"
   ]
  },
  {
   "cell_type": "code",
   "execution_count": null,
   "id": "80bc8e49",
   "metadata": {},
   "outputs": [],
   "source": []
  },
  {
   "cell_type": "code",
   "execution_count": 38,
   "id": "9d712d3f",
   "metadata": {},
   "outputs": [
    {
     "name": "stderr",
     "output_type": "stream",
     "text": [
      "  1%|▎                                       | 21/3033 [00:00<00:14, 202.25it/s]"
     ]
    },
    {
     "name": "stdout",
     "output_type": "stream",
     "text": [
      "3033\n",
      "1906\n"
     ]
    },
    {
     "name": "stderr",
     "output_type": "stream",
     "text": [
      "100%|██████████████████████████████████████| 3033/3033 [00:14<00:00, 211.70it/s]\n",
      "  1%|▍                                       | 22/1906 [00:00<00:08, 219.22it/s]"
     ]
    },
    {
     "name": "stdout",
     "output_type": "stream",
     "text": [
      "write over!\n"
     ]
    },
    {
     "name": "stderr",
     "output_type": "stream",
     "text": [
      "100%|██████████████████████████████████████| 1906/1906 [00:09<00:00, 207.24it/s]"
     ]
    },
    {
     "name": "stdout",
     "output_type": "stream",
     "text": [
      "write over!\n"
     ]
    },
    {
     "name": "stderr",
     "output_type": "stream",
     "text": [
      "\n"
     ]
    }
   ],
   "source": [
    "\n",
    "print(len(train_sentences_and_entlabels))\n",
    "print(len(test_sentences_and_entlabels))\n",
    "write_parsing_results(examples=train_sentences_and_entlabels,write_path='/home/xhsun/Downloads/MTL-Bioinformatics-2016-master/data/BioNLP13CG-IOBES/train.conllx')\n",
    "write_parsing_results(examples=test_sentences_and_entlabels,write_path='/home/xhsun/Downloads/MTL-Bioinformatics-2016-master/data/BioNLP13CG-IOBES/test.conllx')"
   ]
  },
  {
   "cell_type": "code",
   "execution_count": 13,
   "id": "42bb6fea",
   "metadata": {},
   "outputs": [],
   "source": [
    "label2id={}\n",
    "for s_l in train_sentences_and_entlabels:\n",
    "    label_list=s_l[1]\n",
    "    for tag in label_list:\n",
    "        if tag not in label2id:\n",
    "            label2id[tag]=len(label2id)"
   ]
  },
  {
   "cell_type": "code",
   "execution_count": 14,
   "id": "68654084",
   "metadata": {},
   "outputs": [
    {
     "data": {
      "text/plain": [
       "{'O': 0,\n",
       " 'B-Gene_or_gene_product': 1,\n",
       " 'I-Gene_or_gene_product': 2,\n",
       " 'B-Cancer': 3,\n",
       " 'I-Cancer': 4,\n",
       " 'B-Cell': 5,\n",
       " 'I-Cell': 6,\n",
       " 'B-Organism': 7,\n",
       " 'B-Simple_chemical': 8,\n",
       " 'I-Simple_chemical': 9,\n",
       " 'B-Multi-tissue_structure': 10,\n",
       " 'I-Multi-tissue_structure': 11,\n",
       " 'B-Organ': 12,\n",
       " 'B-Organism_subdivision': 13,\n",
       " 'B-Tissue': 14,\n",
       " 'I-Tissue': 15,\n",
       " 'B-Immaterial_anatomical_entity': 16,\n",
       " 'B-Organism_substance': 17,\n",
       " 'I-Organism_substance': 18,\n",
       " 'I-Organism': 19,\n",
       " 'I-Organism_subdivision': 20,\n",
       " 'B-Cellular_component': 21,\n",
       " 'I-Immaterial_anatomical_entity': 22,\n",
       " 'I-Cellular_component': 23,\n",
       " 'B-Pathological_formation': 24,\n",
       " 'I-Pathological_formation': 25,\n",
       " 'I-Organ': 26,\n",
       " 'B-Amino_acid': 27,\n",
       " 'I-Amino_acid': 28,\n",
       " 'B-Anatomical_system': 29,\n",
       " 'I-Anatomical_system': 30,\n",
       " 'B-Developing_anatomical_structure': 31,\n",
       " 'I-Developing_anatomical_structure': 32}"
      ]
     },
     "execution_count": 14,
     "metadata": {},
     "output_type": "execute_result"
    }
   ],
   "source": [
    "label2id"
   ]
  },
  {
   "cell_type": "code",
   "execution_count": 17,
   "id": "06acd881",
   "metadata": {},
   "outputs": [
    {
     "data": {
      "text/plain": [
       "{'<PAD>': 0,\n",
       " 'O': 1,\n",
       " 'B-Gene_or_gene_product': 2,\n",
       " 'I-Gene_or_gene_product': 3,\n",
       " 'E-Gene_or_gene_product': 4,\n",
       " 'B-Cancer': 5,\n",
       " 'I-Cancer': 6,\n",
       " 'E-Cancer': 7,\n",
       " 'S-Cancer': 8,\n",
       " 'B-Cell': 9,\n",
       " 'E-Cell': 10,\n",
       " 'S-Gene_or_gene_product': 11,\n",
       " 'S-Cell': 12,\n",
       " 'S-Organism': 13,\n",
       " 'I-Cell': 14,\n",
       " 'S-Simple_chemical': 15,\n",
       " 'B-Simple_chemical': 16,\n",
       " 'I-Simple_chemical': 17,\n",
       " 'E-Simple_chemical': 18,\n",
       " 'S-Multi-tissue_structure': 19,\n",
       " 'B-Multi-tissue_structure': 20,\n",
       " 'E-Multi-tissue_structure': 21,\n",
       " 'S-Organ': 22,\n",
       " 'S-Organism_subdivision': 23,\n",
       " 'B-Tissue': 24,\n",
       " 'I-Tissue': 25,\n",
       " 'E-Tissue': 26,\n",
       " 'S-Tissue': 27,\n",
       " 'S-Immaterial_anatomical_entity': 28,\n",
       " 'S-Organism_substance': 29,\n",
       " 'B-Organism_substance': 30,\n",
       " 'I-Organism_substance': 31,\n",
       " 'E-Organism_substance': 32,\n",
       " 'I-Multi-tissue_structure': 33,\n",
       " 'B-Organism': 34,\n",
       " 'I-Organism': 35,\n",
       " 'E-Organism': 36,\n",
       " 'B-Organism_subdivision': 37,\n",
       " 'E-Organism_subdivision': 38,\n",
       " 'S-Cellular_component': 39,\n",
       " 'B-Immaterial_anatomical_entity': 40,\n",
       " 'I-Immaterial_anatomical_entity': 41,\n",
       " 'E-Immaterial_anatomical_entity': 42,\n",
       " 'B-Cellular_component': 43,\n",
       " 'E-Cellular_component': 44,\n",
       " 'S-Pathological_formation': 45,\n",
       " 'I-Cellular_component': 46,\n",
       " 'B-Pathological_formation': 47,\n",
       " 'I-Pathological_formation': 48,\n",
       " 'E-Pathological_formation': 49,\n",
       " 'B-Organ': 50,\n",
       " 'E-Organ': 51,\n",
       " 'B-Amino_acid': 52,\n",
       " 'I-Amino_acid': 53,\n",
       " 'E-Amino_acid': 54,\n",
       " 'S-Amino_acid': 55,\n",
       " 'B-Anatomical_system': 56,\n",
       " 'E-Anatomical_system': 57,\n",
       " 'S-Anatomical_system': 58,\n",
       " 'I-Anatomical_system': 59,\n",
       " 'S-Developing_anatomical_structure': 60,\n",
       " 'B-Developing_anatomical_structure': 61,\n",
       " 'E-Developing_anatomical_structure': 62,\n",
       " '<START>': 63,\n",
       " '<STOP>': 64}"
      ]
     },
     "execution_count": 17,
     "metadata": {},
     "output_type": "execute_result"
    }
   ],
   "source": [
    "{'<PAD>': 0, 'O': 1, 'B-Gene_or_gene_product': 2, 'I-Gene_or_gene_product': 3, 'E-Gene_or_gene_product': 4, 'B-Cancer': 5, 'I-Cancer': 6, 'E-Cancer': 7, 'S-Cancer': 8, 'B-Cell': 9, 'E-Cell': 10, 'S-Gene_or_gene_product': 11, 'S-Cell': 12, 'S-Organism': 13, 'I-Cell': 14, 'S-Simple_chemical': 15, 'B-Simple_chemical': 16, 'I-Simple_chemical': 17, 'E-Simple_chemical': 18, 'S-Multi-tissue_structure': 19, 'B-Multi-tissue_structure': 20, 'E-Multi-tissue_structure': 21, 'S-Organ': 22, 'S-Organism_subdivision': 23, 'B-Tissue': 24, 'I-Tissue': 25, 'E-Tissue': 26, 'S-Tissue': 27, 'S-Immaterial_anatomical_entity': 28, 'S-Organism_substance': 29, 'B-Organism_substance': 30, 'I-Organism_substance': 31, 'E-Organism_substance': 32, 'I-Multi-tissue_structure': 33, 'B-Organism': 34, 'I-Organism': 35, 'E-Organism': 36, 'B-Organism_subdivision': 37, 'E-Organism_subdivision': 38, 'S-Cellular_component': 39, 'B-Immaterial_anatomical_entity': 40, 'I-Immaterial_anatomical_entity': 41, 'E-Immaterial_anatomical_entity': 42, 'B-Cellular_component': 43, 'E-Cellular_component': 44, 'S-Pathological_formation': 45, 'I-Cellular_component': 46, 'B-Pathological_formation': 47, 'I-Pathological_formation': 48, 'E-Pathological_formation': 49, 'B-Organ': 50, 'E-Organ': 51, 'B-Amino_acid': 52, 'I-Amino_acid': 53, 'E-Amino_acid': 54, 'S-Amino_acid': 55, 'B-Anatomical_system': 56, 'E-Anatomical_system': 57, 'S-Anatomical_system': 58, 'I-Anatomical_system': 59, 'S-Developing_anatomical_structure': 60, 'B-Developing_anatomical_structure': 61, 'E-Developing_anatomical_structure': 62, '<START>': 63, '<STOP>': 64}"
   ]
  },
  {
   "cell_type": "code",
   "execution_count": null,
   "id": "50c5120a",
   "metadata": {},
   "outputs": [],
   "source": []
  },
  {
   "cell_type": "code",
   "execution_count": null,
   "id": "e29d7d84",
   "metadata": {},
   "outputs": [],
   "source": []
  }
 ],
 "metadata": {
  "kernelspec": {
   "display_name": "Python 3 (ipykernel)",
   "language": "python",
   "name": "python3"
  },
  "language_info": {
   "codemirror_mode": {
    "name": "ipython",
    "version": 3
   },
   "file_extension": ".py",
   "mimetype": "text/x-python",
   "name": "python",
   "nbconvert_exporter": "python",
   "pygments_lexer": "ipython3",
   "version": "3.9.5"
  }
 },
 "nbformat": 4,
 "nbformat_minor": 5
}
